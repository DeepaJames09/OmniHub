{
 "cells": [
  {
   "cell_type": "code",
   "execution_count": null,
   "id": "64713689",
   "metadata": {},
   "outputs": [],
   "source": [
    "import pandas as pd\n",
    "import numpy as np\n",
    "from sklearn.ensemble import RandomForestRegressor\n",
    "from sklearn.model_selection import train_test_split\n",
    "\n",
    "# Load the dataset\n",
    "df = pd.read_csv('Correlation V2.csv')\n",
    "\n",
    "# Data Cleaning - remove rows where AvgOfWaitingTime is zero or NaN\n",
    "df_clean = df[(df['AvgOfWaitingTime'] > 0) & (df['No.OfBedStaffed'] > 0) & (df['No.OfPhysicians'] > 0)]\n",
    "\n",
    "# Feature and target selection\n",
    "features = ['No.OfBedStaffed', 'No.OfPhysicians']\n",
    "target = 'AvgOfWaitingTime'\n",
    "X = df_clean[features]\n",
    "y = df_clean[target]\n",
    "\n",
    "# Initialize the Random Forest model\n",
    "model = RandomForestRegressor(n_estimators=100, random_state=42)\n",
    "\n",
    "# Train the model on the entire clean dataset\n",
    "model.fit(X, y)\n",
    "\n",
    "# Optimization function applying the ML model\n",
    "def optimize_with_ml(row, model, max_increase_factor):\n",
    "    best_configuration = {\n",
    "        'beds': row['No.OfBedStaffed'],\n",
    "        'physicians': row['No.OfPhysicians'],\n",
    "        'waiting_time': row['AvgOfWaitingTime']\n",
    "    }\n",
    "\n",
    "    # Test within 20% increase for both beds and physicians\n",
    "    for increase in np.linspace(0, max_increase_factor, 10):\n",
    "        test_beds = row['No.OfBedStaffed'] * (1 + increase)\n",
    "        test_physicians = row['No.OfPhysicians'] * (1 + increase)\n",
    "        predicted_waiting_time = model.predict([[test_beds, test_physicians]])[0]\n",
    "\n",
    "        if predicted_waiting_time < best_configuration['waiting_time']:\n",
    "            best_configuration['beds'] = test_beds\n",
    "            best_configuration['physicians'] = test_physicians\n",
    "            best_configuration['waiting_time'] = predicted_waiting_time\n",
    "\n",
    "    return pd.Series([best_configuration['beds'], best_configuration['physicians'], best_configuration['waiting_time']])\n",
    "\n",
    "# Apply optimization function to each row in the dataframe\n",
    "df_clean[['OptimizedBeds', 'OptimizedPhysicians', 'OptimizedWaitingTime']] = df_clean.apply(\n",
    "    optimize_with_ml, axis=1, args=(model, 0.2))\n",
    "\n",
    "# Save the final dataframe with the optimized values\n",
    "output_file = 'optimized_waiting_times_v1.csv'\n",
    "df_clean.to_csv(output_file, index=False)\n",
    "\n",
    "print(f\"Optimized data saved to {output_file}\")"
   ]
  }
 ],
 "metadata": {
  "kernelspec": {
   "display_name": "Python 3 (ipykernel)",
   "language": "python",
   "name": "python3"
  },
  "language_info": {
   "codemirror_mode": {
    "name": "ipython",
    "version": 3
   },
   "file_extension": ".py",
   "mimetype": "text/x-python",
   "name": "python",
   "nbconvert_exporter": "python",
   "pygments_lexer": "ipython3",
   "version": "3.11.4"
  }
 },
 "nbformat": 4,
 "nbformat_minor": 5
}
